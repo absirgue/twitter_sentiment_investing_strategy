{
 "cells": [
  {
   "cell_type": "code",
   "execution_count": null,
   "metadata": {},
   "outputs": [],
   "source": []
  },
  {
   "cell_type": "markdown",
   "metadata": {},
   "source": [
    "This project implements a very simple strategy for the selection of stocks from the NASDAQ 100 based on Twitter data. We decided to compute a very simple engagement ratio from Twitter engagement data found online. From this ratio, we shortlist 5 best performing stocks each month and build an equally-weighted portfolio of them. The comparisons ran at the end of this demonstration show that even a strategy this simple can deliver performance.\n",
    "\n",
    "Although this strategy is of course not to be traded on, working on this project is interesting to better understand how non-financial data can help deliver performant quantitative trading strategies."
   ]
  },
  {
   "cell_type": "code",
   "execution_count": 47,
   "metadata": {},
   "outputs": [],
   "source": [
    "import pandas as pd\n",
    "import numpy as np \n",
    "import matplotlib.pyplot as plt\n",
    "import matplotlib.ticker as mtick\n",
    "import datetime as dt\n",
    "import yfinance as yf\n",
    "import os \n",
    "\n",
    "plt.style.use(\"ggplot\")"
   ]
  },
  {
   "cell_type": "markdown",
   "metadata": {},
   "source": [
    "### 1. Load Twitter sentiment data\n",
    "Note: we base this project on an existing CSV file of twitter data related to NASDAQ 100 stocks. In practice, however, this strategy would only work if connected directly to an API. The strategy in itself is, however, what we want to focus on here. "
   ]
  },
  {
   "cell_type": "code",
   "execution_count": 5,
   "metadata": {},
   "outputs": [],
   "source": [
    "data_path = \"./sentiment_data.csv\"\n",
    "sentiment_df = pd.read_csv(data_path)\n",
    "sentiment_df['date'] = pd.to_datetime(sentiment_df['date'])\n",
    "sentiment_df = sentiment_df.set_index(['date','symbol'])\n",
    "\n",
    "# We are interested in metrics of engagement to point out and mitigate the effect of bots.\n",
    "# To this end will calculate the engagement ratio (comments/likes). \n",
    "sentiment_df[\"engagement_ratio\"] = sentiment_df[\"twitterComments\"]/sentiment_df[\"twitterLikes\"]\n",
    "\n",
    "# In order to remove noise, we fix threshold in the number of likes and comments for our investment universe.\n",
    "sentiment_df = sentiment_df[(sentiment_df[\"twitterLikes\"]>20)&(sentiment_df[\"twitterComments\"]>10)]"
   ]
  },
  {
   "cell_type": "markdown",
   "metadata": {},
   "source": [
    "### 2. Aggregating monthly and calculating average sentiment for the month"
   ]
  },
  {
   "cell_type": "code",
   "execution_count": 12,
   "metadata": {},
   "outputs": [
    {
     "name": "stderr",
     "output_type": "stream",
     "text": [
      "/var/folders/46/d4fn4d21655bpjrh668pfxs80000gn/T/ipykernel_98495/2470790623.py:1: FutureWarning: 'M' is deprecated and will be removed in a future version, please use 'ME' instead.\n",
      "  aggregated_df = (sentiment_df.reset_index('symbol').groupby([pd.Grouper(freq=\"M\"),'symbol'])\n"
     ]
    },
    {
     "data": {
      "text/html": [
       "<div>\n",
       "<style scoped>\n",
       "    .dataframe tbody tr th:only-of-type {\n",
       "        vertical-align: middle;\n",
       "    }\n",
       "\n",
       "    .dataframe tbody tr th {\n",
       "        vertical-align: top;\n",
       "    }\n",
       "\n",
       "    .dataframe thead th {\n",
       "        text-align: right;\n",
       "    }\n",
       "</style>\n",
       "<table border=\"1\" class=\"dataframe\">\n",
       "  <thead>\n",
       "    <tr style=\"text-align: right;\">\n",
       "      <th></th>\n",
       "      <th></th>\n",
       "      <th>engagement_ratio</th>\n",
       "      <th>rank</th>\n",
       "    </tr>\n",
       "    <tr>\n",
       "      <th>date</th>\n",
       "      <th>symbol</th>\n",
       "      <th></th>\n",
       "      <th></th>\n",
       "    </tr>\n",
       "  </thead>\n",
       "  <tbody>\n",
       "    <tr>\n",
       "      <th rowspan=\"5\" valign=\"top\">2021-11-30</th>\n",
       "      <th>AAL</th>\n",
       "      <td>0.203835</td>\n",
       "      <td>37.0</td>\n",
       "    </tr>\n",
       "    <tr>\n",
       "      <th>AAPL</th>\n",
       "      <td>0.256318</td>\n",
       "      <td>23.0</td>\n",
       "    </tr>\n",
       "    <tr>\n",
       "      <th>ABBV</th>\n",
       "      <td>0.244677</td>\n",
       "      <td>26.0</td>\n",
       "    </tr>\n",
       "    <tr>\n",
       "      <th>ABT</th>\n",
       "      <td>0.313368</td>\n",
       "      <td>14.0</td>\n",
       "    </tr>\n",
       "    <tr>\n",
       "      <th>AES</th>\n",
       "      <td>0.864613</td>\n",
       "      <td>2.0</td>\n",
       "    </tr>\n",
       "    <tr>\n",
       "      <th>...</th>\n",
       "      <th>...</th>\n",
       "      <td>...</td>\n",
       "      <td>...</td>\n",
       "    </tr>\n",
       "    <tr>\n",
       "      <th rowspan=\"5\" valign=\"top\">2023-01-31</th>\n",
       "      <th>TMO</th>\n",
       "      <td>0.333313</td>\n",
       "      <td>19.0</td>\n",
       "    </tr>\n",
       "    <tr>\n",
       "      <th>TSLA</th>\n",
       "      <td>0.151992</td>\n",
       "      <td>72.0</td>\n",
       "    </tr>\n",
       "    <tr>\n",
       "      <th>TSN</th>\n",
       "      <td>0.280553</td>\n",
       "      <td>30.0</td>\n",
       "    </tr>\n",
       "    <tr>\n",
       "      <th>V</th>\n",
       "      <td>0.194045</td>\n",
       "      <td>60.0</td>\n",
       "    </tr>\n",
       "    <tr>\n",
       "      <th>XOM</th>\n",
       "      <td>0.217904</td>\n",
       "      <td>53.0</td>\n",
       "    </tr>\n",
       "  </tbody>\n",
       "</table>\n",
       "<p>1109 rows × 2 columns</p>\n",
       "</div>"
      ],
      "text/plain": [
       "                   engagement_ratio  rank\n",
       "date       symbol                        \n",
       "2021-11-30 AAL             0.203835  37.0\n",
       "           AAPL            0.256318  23.0\n",
       "           ABBV            0.244677  26.0\n",
       "           ABT             0.313368  14.0\n",
       "           AES             0.864613   2.0\n",
       "...                             ...   ...\n",
       "2023-01-31 TMO             0.333313  19.0\n",
       "           TSLA            0.151992  72.0\n",
       "           TSN             0.280553  30.0\n",
       "           V               0.194045  60.0\n",
       "           XOM             0.217904  53.0\n",
       "\n",
       "[1109 rows x 2 columns]"
      ]
     },
     "execution_count": 12,
     "metadata": {},
     "output_type": "execute_result"
    }
   ],
   "source": [
    "aggregated_df = (sentiment_df.reset_index('symbol').groupby([pd.Grouper(freq=\"M\"),'symbol'])\n",
    " [[\"engagement_ratio\"]].mean())\n",
    "\n",
    "aggregated_df['rank'] = (aggregated_df.groupby(level=0)[\"engagement_ratio\"]\n",
    "                         .transform(lambda x: x.rank(ascending=False)))\n",
    "aggregated_df"
   ]
  },
  {
   "cell_type": "markdown",
   "metadata": {},
   "source": [
    "### 3. Select top 5 stocks based on cross-sectional ranking for each month"
   ]
  },
  {
   "cell_type": "code",
   "execution_count": 16,
   "metadata": {},
   "outputs": [
    {
     "data": {
      "text/html": [
       "<div>\n",
       "<style scoped>\n",
       "    .dataframe tbody tr th:only-of-type {\n",
       "        vertical-align: middle;\n",
       "    }\n",
       "\n",
       "    .dataframe tbody tr th {\n",
       "        vertical-align: top;\n",
       "    }\n",
       "\n",
       "    .dataframe thead th {\n",
       "        text-align: right;\n",
       "    }\n",
       "</style>\n",
       "<table border=\"1\" class=\"dataframe\">\n",
       "  <thead>\n",
       "    <tr style=\"text-align: right;\">\n",
       "      <th></th>\n",
       "      <th></th>\n",
       "      <th>engagement_ratio</th>\n",
       "      <th>rank</th>\n",
       "    </tr>\n",
       "    <tr>\n",
       "      <th>date</th>\n",
       "      <th>symbol</th>\n",
       "      <th></th>\n",
       "      <th></th>\n",
       "    </tr>\n",
       "  </thead>\n",
       "  <tbody>\n",
       "    <tr>\n",
       "      <th rowspan=\"5\" valign=\"top\">2021-12-01</th>\n",
       "      <th>AES</th>\n",
       "      <td>0.864613</td>\n",
       "      <td>2.0</td>\n",
       "    </tr>\n",
       "    <tr>\n",
       "      <th>FCX</th>\n",
       "      <td>0.626323</td>\n",
       "      <td>5.0</td>\n",
       "    </tr>\n",
       "    <tr>\n",
       "      <th>MNST</th>\n",
       "      <td>0.699721</td>\n",
       "      <td>3.0</td>\n",
       "    </tr>\n",
       "    <tr>\n",
       "      <th>OXY</th>\n",
       "      <td>2.147741</td>\n",
       "      <td>1.0</td>\n",
       "    </tr>\n",
       "    <tr>\n",
       "      <th>SLB</th>\n",
       "      <td>0.647374</td>\n",
       "      <td>4.0</td>\n",
       "    </tr>\n",
       "    <tr>\n",
       "      <th>...</th>\n",
       "      <th>...</th>\n",
       "      <td>...</td>\n",
       "      <td>...</td>\n",
       "    </tr>\n",
       "    <tr>\n",
       "      <th rowspan=\"5\" valign=\"top\">2023-02-01</th>\n",
       "      <th>A</th>\n",
       "      <td>0.471572</td>\n",
       "      <td>5.0</td>\n",
       "    </tr>\n",
       "    <tr>\n",
       "      <th>AES</th>\n",
       "      <td>0.533809</td>\n",
       "      <td>4.0</td>\n",
       "    </tr>\n",
       "    <tr>\n",
       "      <th>BIIB</th>\n",
       "      <td>0.839303</td>\n",
       "      <td>1.0</td>\n",
       "    </tr>\n",
       "    <tr>\n",
       "      <th>FCX</th>\n",
       "      <td>0.667387</td>\n",
       "      <td>3.0</td>\n",
       "    </tr>\n",
       "    <tr>\n",
       "      <th>MDT</th>\n",
       "      <td>0.806841</td>\n",
       "      <td>2.0</td>\n",
       "    </tr>\n",
       "  </tbody>\n",
       "</table>\n",
       "<p>75 rows × 2 columns</p>\n",
       "</div>"
      ],
      "text/plain": [
       "                   engagement_ratio  rank\n",
       "date       symbol                        \n",
       "2021-12-01 AES             0.864613   2.0\n",
       "           FCX             0.626323   5.0\n",
       "           MNST            0.699721   3.0\n",
       "           OXY             2.147741   1.0\n",
       "           SLB             0.647374   4.0\n",
       "...                             ...   ...\n",
       "2023-02-01 A               0.471572   5.0\n",
       "           AES             0.533809   4.0\n",
       "           BIIB            0.839303   1.0\n",
       "           FCX             0.667387   3.0\n",
       "           MDT             0.806841   2.0\n",
       "\n",
       "[75 rows x 2 columns]"
      ]
     },
     "execution_count": 16,
     "metadata": {},
     "output_type": "execute_result"
    }
   ],
   "source": [
    "filtered_df = aggregated_df[aggregated_df['rank']<6].copy()\n",
    "filtered_df = filtered_df.reset_index(level=1)\n",
    "filtered_df.index = filtered_df.index + pd.DateOffset(1)\n",
    "\n",
    "filtered_df = filtered_df.reset_index().set_index(['date','symbol'])\n",
    "filtered_df"
   ]
  },
  {
   "cell_type": "markdown",
   "metadata": {},
   "source": [
    "### 4. Extract the stocks to form a portfolio at the beginning of each month"
   ]
  },
  {
   "cell_type": "code",
   "execution_count": 18,
   "metadata": {},
   "outputs": [
    {
     "data": {
      "text/plain": [
       "{'2021-12-01': ['AES', 'FCX', 'MNST', 'OXY', 'SLB'],\n",
       " '2022-01-01': ['D', 'FCX', 'L', 'LUV', 'MA'],\n",
       " '2022-02-01': ['AMD', 'D', 'FCX', 'LUV', 'MA'],\n",
       " '2022-03-01': ['FCX', 'GILD', 'LUV', 'MRO', 'OXY'],\n",
       " '2022-04-01': ['A', 'CRM', 'PFE', 'PM', 'STZ'],\n",
       " '2022-05-01': ['AMD', 'CRM', 'CVX', 'J', 'KEY'],\n",
       " '2022-06-01': ['AMD', 'DD', 'FCX', 'KEY', 'LMT'],\n",
       " '2022-07-01': ['CB', 'CRM', 'DD', 'FCX', 'STZ'],\n",
       " '2022-08-01': ['A', 'DD', 'JPM', 'REGN', 'STZ'],\n",
       " '2022-09-01': ['ABT', 'DIS', 'L', 'META', 'MRNA'],\n",
       " '2022-10-01': ['J', 'KEY', 'L', 'META', 'MU'],\n",
       " '2022-11-01': ['A', 'DD', 'FCX', 'J', 'META'],\n",
       " '2022-12-01': ['AEP', 'AES', 'DD', 'J', 'STZ'],\n",
       " '2023-01-01': ['A', 'AES', 'DAL', 'J', 'KEY'],\n",
       " '2023-02-01': ['A', 'AES', 'BIIB', 'FCX', 'MDT']}"
      ]
     },
     "execution_count": 18,
     "metadata": {},
     "output_type": "execute_result"
    }
   ],
   "source": [
    "dates= filtered_df.index.get_level_values('date').unique().tolist()\n",
    "fixed_dates = {}\n",
    "\n",
    "for d in dates:\n",
    "    fixed_dates[d.strftime(\"%Y-%m-%d\")] = filtered_df.xs(d,level=0).index.tolist()\n",
    "\n",
    "fixed_dates"
   ]
  },
  {
   "cell_type": "markdown",
   "metadata": {},
   "source": [
    "### 5. Download fresh stock prices for only selected stocks"
   ]
  },
  {
   "cell_type": "code",
   "execution_count": 19,
   "metadata": {},
   "outputs": [
    {
     "name": "stderr",
     "output_type": "stream",
     "text": [
      "[*********************100%%**********************]  85 of 85 completed\n",
      "\n",
      "1 Failed download:\n",
      "['ATVI']: YFTzMissingError('$%ticker%: possibly delisted; No timezone found')\n"
     ]
    }
   ],
   "source": [
    "stocks_list = sentiment_df.index.get_level_values('symbol').unique().tolist()\n",
    "prices_df = yf.download(tickers = stocks_list, start='2021-01-01',end='2023-03-01')\n"
   ]
  },
  {
   "cell_type": "markdown",
   "metadata": {},
   "source": [
    "### 6. Calculate portfolio returns with monthly rebalancing"
   ]
  },
  {
   "cell_type": "code",
   "execution_count": 28,
   "metadata": {},
   "outputs": [
    {
     "data": {
      "text/html": [
       "<div>\n",
       "<style scoped>\n",
       "    .dataframe tbody tr th:only-of-type {\n",
       "        vertical-align: middle;\n",
       "    }\n",
       "\n",
       "    .dataframe tbody tr th {\n",
       "        vertical-align: top;\n",
       "    }\n",
       "\n",
       "    .dataframe thead th {\n",
       "        text-align: right;\n",
       "    }\n",
       "</style>\n",
       "<table border=\"1\" class=\"dataframe\">\n",
       "  <thead>\n",
       "    <tr style=\"text-align: right;\">\n",
       "      <th></th>\n",
       "      <th>portfolio_return</th>\n",
       "    </tr>\n",
       "    <tr>\n",
       "      <th>Date</th>\n",
       "      <th></th>\n",
       "    </tr>\n",
       "  </thead>\n",
       "  <tbody>\n",
       "    <tr>\n",
       "      <th>2021-12-01</th>\n",
       "      <td>-0.016417</td>\n",
       "    </tr>\n",
       "    <tr>\n",
       "      <th>2021-12-02</th>\n",
       "      <td>0.024872</td>\n",
       "    </tr>\n",
       "    <tr>\n",
       "      <th>2021-12-03</th>\n",
       "      <td>-0.007711</td>\n",
       "    </tr>\n",
       "    <tr>\n",
       "      <th>2021-12-06</th>\n",
       "      <td>0.023926</td>\n",
       "    </tr>\n",
       "    <tr>\n",
       "      <th>2021-12-07</th>\n",
       "      <td>0.030547</td>\n",
       "    </tr>\n",
       "    <tr>\n",
       "      <th>...</th>\n",
       "      <td>...</td>\n",
       "    </tr>\n",
       "    <tr>\n",
       "      <th>2023-02-22</th>\n",
       "      <td>-0.007870</td>\n",
       "    </tr>\n",
       "    <tr>\n",
       "      <th>2023-02-23</th>\n",
       "      <td>-0.007323</td>\n",
       "    </tr>\n",
       "    <tr>\n",
       "      <th>2023-02-24</th>\n",
       "      <td>-0.009463</td>\n",
       "    </tr>\n",
       "    <tr>\n",
       "      <th>2023-02-27</th>\n",
       "      <td>-0.001871</td>\n",
       "    </tr>\n",
       "    <tr>\n",
       "      <th>2023-02-28</th>\n",
       "      <td>0.001403</td>\n",
       "    </tr>\n",
       "  </tbody>\n",
       "</table>\n",
       "<p>312 rows × 1 columns</p>\n",
       "</div>"
      ],
      "text/plain": [
       "            portfolio_return\n",
       "Date                        \n",
       "2021-12-01         -0.016417\n",
       "2021-12-02          0.024872\n",
       "2021-12-03         -0.007711\n",
       "2021-12-06          0.023926\n",
       "2021-12-07          0.030547\n",
       "...                      ...\n",
       "2023-02-22         -0.007870\n",
       "2023-02-23         -0.007323\n",
       "2023-02-24         -0.009463\n",
       "2023-02-27         -0.001871\n",
       "2023-02-28          0.001403\n",
       "\n",
       "[312 rows x 1 columns]"
      ]
     },
     "execution_count": 28,
     "metadata": {},
     "output_type": "execute_result"
    }
   ],
   "source": [
    "returns_df = np.log(prices_df[\"Adj Close\"]).diff()\n",
    "\n",
    "portfolio_df = pd.DataFrame()\n",
    "\n",
    "# As of now, we simply consider an equally-weighted portfolio.\n",
    "for start_date in fixed_dates.keys():\n",
    "    end_date = (pd.to_datetime(start_date) + pd.offsets.MonthEnd(0)).strftime(\"%Y-%m-%d\")\n",
    "\n",
    "    stocks_of_the_month = fixed_dates[start_date]\n",
    "    temp_df = returns_df[start_date:end_date][stocks_of_the_month].mean(axis=1).to_frame('portfolio_return')\n",
    "    portfolio_df = pd.concat([portfolio_df,temp_df],axis=0)\n",
    "\n",
    "portfolio_df"
   ]
  },
  {
   "cell_type": "markdown",
   "metadata": {},
   "source": [
    "### 7. Download NASDAQ/QQQ prices and compare with our strategy"
   ]
  },
  {
   "cell_type": "code",
   "execution_count": 38,
   "metadata": {},
   "outputs": [
    {
     "name": "stderr",
     "output_type": "stream",
     "text": [
      "[*********************100%%**********************]  1 of 1 completed\n"
     ]
    },
    {
     "data": {
      "text/html": [
       "<div>\n",
       "<style scoped>\n",
       "    .dataframe tbody tr th:only-of-type {\n",
       "        vertical-align: middle;\n",
       "    }\n",
       "\n",
       "    .dataframe tbody tr th {\n",
       "        vertical-align: top;\n",
       "    }\n",
       "\n",
       "    .dataframe thead th {\n",
       "        text-align: right;\n",
       "    }\n",
       "</style>\n",
       "<table border=\"1\" class=\"dataframe\">\n",
       "  <thead>\n",
       "    <tr style=\"text-align: right;\">\n",
       "      <th></th>\n",
       "      <th>portfolio_return</th>\n",
       "      <th>nasdaq_return</th>\n",
       "    </tr>\n",
       "    <tr>\n",
       "      <th>Date</th>\n",
       "      <th></th>\n",
       "      <th></th>\n",
       "    </tr>\n",
       "  </thead>\n",
       "  <tbody>\n",
       "    <tr>\n",
       "      <th>2021-12-01</th>\n",
       "      <td>-0.016417</td>\n",
       "      <td>-0.017159</td>\n",
       "    </tr>\n",
       "    <tr>\n",
       "      <th>2021-12-02</th>\n",
       "      <td>0.024872</td>\n",
       "      <td>0.007181</td>\n",
       "    </tr>\n",
       "    <tr>\n",
       "      <th>2021-12-03</th>\n",
       "      <td>-0.007711</td>\n",
       "      <td>-0.017542</td>\n",
       "    </tr>\n",
       "    <tr>\n",
       "      <th>2021-12-06</th>\n",
       "      <td>0.023926</td>\n",
       "      <td>0.007981</td>\n",
       "    </tr>\n",
       "    <tr>\n",
       "      <th>2021-12-07</th>\n",
       "      <td>0.030547</td>\n",
       "      <td>0.029669</td>\n",
       "    </tr>\n",
       "    <tr>\n",
       "      <th>...</th>\n",
       "      <td>...</td>\n",
       "      <td>...</td>\n",
       "    </tr>\n",
       "    <tr>\n",
       "      <th>2023-02-22</th>\n",
       "      <td>-0.007870</td>\n",
       "      <td>0.000748</td>\n",
       "    </tr>\n",
       "    <tr>\n",
       "      <th>2023-02-23</th>\n",
       "      <td>-0.007323</td>\n",
       "      <td>0.008696</td>\n",
       "    </tr>\n",
       "    <tr>\n",
       "      <th>2023-02-24</th>\n",
       "      <td>-0.009463</td>\n",
       "      <td>-0.016886</td>\n",
       "    </tr>\n",
       "    <tr>\n",
       "      <th>2023-02-27</th>\n",
       "      <td>-0.001871</td>\n",
       "      <td>0.007136</td>\n",
       "    </tr>\n",
       "    <tr>\n",
       "      <th>2023-02-28</th>\n",
       "      <td>0.001403</td>\n",
       "      <td>-0.001294</td>\n",
       "    </tr>\n",
       "  </tbody>\n",
       "</table>\n",
       "<p>312 rows × 2 columns</p>\n",
       "</div>"
      ],
      "text/plain": [
       "            portfolio_return  nasdaq_return\n",
       "Date                                       \n",
       "2021-12-01         -0.016417      -0.017159\n",
       "2021-12-02          0.024872       0.007181\n",
       "2021-12-03         -0.007711      -0.017542\n",
       "2021-12-06          0.023926       0.007981\n",
       "2021-12-07          0.030547       0.029669\n",
       "...                      ...            ...\n",
       "2023-02-22         -0.007870       0.000748\n",
       "2023-02-23         -0.007323       0.008696\n",
       "2023-02-24         -0.009463      -0.016886\n",
       "2023-02-27         -0.001871       0.007136\n",
       "2023-02-28          0.001403      -0.001294\n",
       "\n",
       "[312 rows x 2 columns]"
      ]
     },
     "execution_count": 38,
     "metadata": {},
     "output_type": "execute_result"
    }
   ],
   "source": [
    "qqq_df = yf.download(tickers='QQQ',start='2021-01-01',end='2023-03-01')\n",
    "qqq_ret = np.log(qqq_df[\"Adj Close\"]).diff().to_frame('nasdaq_return')\n",
    "\n",
    "\n",
    "portfolio_df = portfolio_df.merge(qqq_ret, left_index=True, right_index=True)\n",
    "\n",
    "portfolio_df"
   ]
  },
  {
   "cell_type": "code",
   "execution_count": 48,
   "metadata": {},
   "outputs": [
    {
     "data": {
      "text/plain": [
       "Text(0, 0.5, 'Return')"
      ]
     },
     "execution_count": 48,
     "metadata": {},
     "output_type": "execute_result"
    },
    {
     "data": {
      "image/png": "[encoded data removed]",
      "text/plain": [
       "<Figure size 1600x600 with 1 Axes>"
      ]
     },
     "metadata": {},
     "output_type": "display_data"
    }
   ],
   "source": [
    "portfolios_cumulative_return = np.exp(np.log1p(portfolio_df).cumsum()).sub(1)\n",
    "portfolios_cumulative_return.plot(figsize=(16,6))\n",
    "plt.title(\"Twitter Engagement Ratio Strategy Return Over Time\")\n",
    "plt.gca().yaxis.set_major_formatter(mtick.PercentFormatter(1))\n",
    "plt.ylabel('Return')"
   ]
  }
 ],
 "metadata": {
  "kernelspec": {
   "display_name": "venv",
   "language": "python",
   "name": "python3"
  },
  "language_info": {
   "codemirror_mode": {
    "name": "ipython",
    "version": 3
   },
   "file_extension": ".py",
   "mimetype": "text/x-python",
   "name": "python",
   "nbconvert_exporter": "python",
   "pygments_lexer": "ipython3",
   "version": "3.11.5"
  }
 },
 "nbformat": 4,
 "nbformat_minor": 2
}
